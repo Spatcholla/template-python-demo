{
 "cells": [
  {
   "cell_type": "markdown",
   "metadata": {},
   "source": [
    "# demo notebook"
   ]
  },
  {
   "cell_type": "raw",
   "metadata": {},
   "source": [
    "from demo import utils"
   ]
  },
  {
   "cell_type": "raw",
   "metadata": {},
   "source": [
    "feet = 5.5\n",
    "meters = utils.feet_to_meters(feet)\n",
    "meters"
   ]
  }
 ],
 "metadata": {
  "kernelspec": {
   "display_name": "Python 2.7.16 64-bit",
   "name": "python2716jvsc74a57bd0767d51c1340bd893661ea55ea3124f6de3c7a262a8b4abca0554b478b1e2ff90"
  },
  "language_info": {
   "name": "python",
   "version": ""
  },
  "metadata": {
   "interpreter": {
    "hash": "767d51c1340bd893661ea55ea3124f6de3c7a262a8b4abca0554b478b1e2ff90"
   }
  },
  "orig_nbformat": 2
 },
 "nbformat": 4,
 "nbformat_minor": 2
}